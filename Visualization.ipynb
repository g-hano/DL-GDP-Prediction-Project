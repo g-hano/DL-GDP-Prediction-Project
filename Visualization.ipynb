{
 "cells": [
  {
   "cell_type": "code",
   "execution_count": 11,
   "id": "d0c6e9c2-b21e-4908-9774-6497b9c1e35c",
   "metadata": {
    "tags": []
   },
   "outputs": [],
   "source": [
    "import pandas as pd\n",
    "import matplotlib.pyplot as plt"
   ]
  },
  {
   "cell_type": "code",
   "execution_count": 12,
   "id": "dc75b0a4-a5c1-42a2-9454-f941cfb8b007",
   "metadata": {
    "tags": []
   },
   "outputs": [],
   "source": [
    "country_names = ['Bangladesh','China','Finland','France','Georgia','India',\n",
    "                 'Indonesia','Kuwait','Netherlands','Norway','Philippines',\n",
    "                 'Portugal','Qatar','Russia','SArabia','Senegal','Singapore',\n",
    "                 'Spain','Sweden','Switzerland','Syria','Turkiye','UAE','UK',\n",
    "                 'USA','Armenia','Australia','Azerbaijan','Bahrain','Chile',\n",
    "                 'Chad','Croatia','Comoros','Austria','Argentina','Israel',\n",
    "                 'Greenland','Iceland','Ireland','Greece','Japan','Jordan','Kazakhstan',\n",
    "                'Kenya','Kyrgyz','Maldives','Malta','Mexico','Nepal','Oman','Pakistan',\n",
    "                'Panama','Paraguay','Peru','Romania','SanMarino','Serbia','Sudan','Tanzania',\n",
    "                'Tunisia','Uganda','Ukraine','Uzbekistan','Zimbabwe','Belarus','Bosnia',\n",
    "                'Brazil','Bulgaria','BurkinaFaso','Burundi','Cameroon','Cuba','Cyprus','Gabon',\n",
    "                'Ghana']"
   ]
  },
  {
   "cell_type": "markdown",
   "id": "aef2bad8-712f-40ec-880f-e0e1f4833c6d",
   "metadata": {
    "tags": []
   },
   "source": [
    "## Graphs"
   ]
  },
  {
   "cell_type": "markdown",
   "id": "1f248656-2f75-431c-ba33-82a15bea86e8",
   "metadata": {
    "tags": []
   },
   "source": [
    "### Inflation - Trade"
   ]
  },
  {
   "cell_type": "code",
   "execution_count": 18,
   "id": "3fea2ba2-0831-4ba8-99e3-cd94ec104c40",
   "metadata": {
    "tags": []
   },
   "outputs": [],
   "source": [
    "for country in country_names:\n",
    "    # Read the data from the CSV file\n",
    "    df = pd.read_csv(f'Datas/Converted Data/Countries/{country}_converted.csv', index_col=0)\n",
    "    # get Inflation and Trade datas for each year\n",
    "    years = df['Year']\n",
    "    inflation = df['Inflation']\n",
    "    trade = df['Trade (% of GDP)']\n",
    "    \n",
    "    # make graphs\n",
    "    fig, ax1 = plt.subplots()\n",
    "    ax1.plot(years, inflation, '-o', color='blue', label='Enflasyon')\n",
    "    ax1.set_ylabel('Inflation', color='blue')\n",
    "    ax1.tick_params('y', colors='blue')\n",
    "    ax2 = ax1.twinx()\n",
    "    ax2.plot(years, trade, '-o', color='green', label='Ticaret Oranı')\n",
    "    ax2.set_ylabel('Trade (% of GDP)', color='green')\n",
    "    ax2.tick_params('y', colors='green')\n",
    "\n",
    "    # Set the title and legends\n",
    "    ax1.set_title(f'Inflation and Trade in {country}')\n",
    "    ax2.legend(loc='upper left')\n",
    "    ax1.legend(loc='upper center')\n",
    "    \n",
    "    # Save the plot in PNG format\n",
    "    plt.savefig(f'Graphs/inflation_trade/{country}_inflation_trade.png')\n",
    "    # Close the plot\n",
    "    plt.close()"
   ]
  },
  {
   "cell_type": "markdown",
   "id": "39de242d-9e1b-4f39-bdd6-fe9126f93e7f",
   "metadata": {
    "tags": []
   },
   "source": [
    "### Total Population - Unemployment"
   ]
  },
  {
   "cell_type": "code",
   "execution_count": 17,
   "id": "f6e5bba4-7493-4277-a0c4-13e24162b177",
   "metadata": {
    "tags": []
   },
   "outputs": [],
   "source": [
    "for country in country_names:\n",
    "    # Read the data from the CSV file\n",
    "    df = pd.read_csv(f'Datas/Converted Data/Countries/{country}_converted.csv', index_col=0)\n",
    "\n",
    "    # get Unemployment and Population datas for each year\n",
    "    years = df['Year']\n",
    "    unemployment = df['Unemployment']\n",
    "    population = df['Population']\n",
    "\n",
    "    # make graphs\n",
    "    fig, ax1 = plt.subplots()\n",
    "    ax1.plot(years, unemployment, '-o', color='blue', label='Unemployment')\n",
    "    ax1.set_ylabel('Unemployment', color='blue')\n",
    "    ax1.tick_params('y', colors='blue')\n",
    "    ax2 = ax1.twinx()\n",
    "    ax2.plot(years, population, '-o', color='green', label='Population')\n",
    "    ax2.set_ylabel('Population', color='green')\n",
    "    ax2.tick_params('y', colors='green')\n",
    "\n",
    "    # Set the title and legends\n",
    "    ax1.set_title(f'Unemployment and Population in {country}')\n",
    "    ax2.legend(loc='upper left')\n",
    "    ax1.legend(loc='upper center')\n",
    "    \n",
    "    # Save the plot in PNG format\n",
    "    plt.savefig(f'Graphs/population_unemployment/{country}_population_unemp.png')\n",
    "    # Close the plot\n",
    "    plt.close()"
   ]
  },
  {
   "cell_type": "markdown",
   "id": "7463aa76-2235-4adc-be0a-e5f8f20515f4",
   "metadata": {},
   "source": [
    "### GDP Growth - Population"
   ]
  },
  {
   "cell_type": "code",
   "execution_count": 16,
   "id": "330a384e-7e6c-4a4e-8bfe-6cc0cba9a0f3",
   "metadata": {
    "tags": []
   },
   "outputs": [],
   "source": [
    "for country in country_names:\n",
    "    # Read the data from the CSV file\n",
    "    df = pd.read_csv(f'Datas/Converted Data/Countries/{country}_converted.csv', index_col=0)\n",
    "\n",
    "    # get gdp and population datas for each year\n",
    "    years = df['Year']\n",
    "    gdp = df['GDP per capita']\n",
    "    population = df['Population']\n",
    "\n",
    "    # make graphs\n",
    "    fig, ax1 = plt.subplots()\n",
    "    ax1.plot(years, gdp, '-o', color='blue', label='GDP per capita')\n",
    "    ax1.set_ylabel('GDP per capita', color='blue')\n",
    "    ax1.tick_params('y', colors='blue')\n",
    "    ax2 = ax1.twinx()\n",
    "    ax2.plot(years, population, '-o', color='green', label='Population')\n",
    "    ax2.set_ylabel('Population', color='green')\n",
    "    ax2.tick_params('y', colors='green')\n",
    "\n",
    "    # Set the title and legends\n",
    "    ax1.set_title(f'GDP per capita and Population in {country}')\n",
    "    ax2.legend(loc='upper left')\n",
    "    ax1.legend(loc='upper center')\n",
    "    \n",
    "    # Save the plot in PNG format\n",
    "    plt.savefig(f'Graphs/gdp_population/{country}_gdp_population.png')\n",
    "    # Close the plot\n",
    "    plt.close()"
   ]
  }
 ],
 "metadata": {
  "kernelspec": {
   "display_name": "Python 3 (ipykernel)",
   "language": "python",
   "name": "python3"
  },
  "language_info": {
   "codemirror_mode": {
    "name": "ipython",
    "version": 3
   },
   "file_extension": ".py",
   "mimetype": "text/x-python",
   "name": "python",
   "nbconvert_exporter": "python",
   "pygments_lexer": "ipython3",
   "version": "3.11.3"
  }
 },
 "nbformat": 4,
 "nbformat_minor": 5
}
