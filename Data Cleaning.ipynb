{
 "cells": [
  {
   "cell_type": "code",
   "execution_count": 16,
   "id": "d10b9a83-a4b6-4928-8bb2-0e95cbfa29ba",
   "metadata": {
    "tags": []
   },
   "outputs": [],
   "source": [
    "import pandas as pd\n",
    "from sklearn.model_selection import train_test_split\n",
    "import csv\n",
    "\n",
    "import os\n",
    "import glob"
   ]
  },
  {
   "cell_type": "code",
   "execution_count": 17,
   "id": "0711c3ab-6ff7-4f5c-83fe-57fa7d439ed8",
   "metadata": {
    "tags": []
   },
   "outputs": [],
   "source": [
    "country_names = ['Bangladesh','China','Finland','France','Georgia','India',\n",
    "                 'Indonesia','Kuwait','Netherlands','Norway','Philippines',\n",
    "                 'Portugal','Qatar','Russia','SArabia','Senegal','Singapore',\n",
    "                 'Spain','Sweden','Switzerland','Syria','Turkiye','UAE','UK',\n",
    "                 'USA','Armenia','Australia','Azerbaijan','Bahrain','Chile',\n",
    "                 'Chad','Croatia','Comoros','Austria','Argentina','Israel',\n",
    "                 'Greenland','Iceland','Ireland','Greece','Japan','Jordan','Kazakhstan',\n",
    "                'Kenya','Kyrgyz','Maldives','Malta','Mexico','Nepal','Oman','Pakistan',\n",
    "                'Panama','Paraguay','Peru','Romania','SanMarino','Serbia','Sudan','Tanzania',\n",
    "                'Tunisia','Uganda','Ukraine','Uzbekistan','Zimbabwe','Belarus','Bosnia',\n",
    "                'Brazil','Bulgaria','BurkinaFaso','Burundi','Cameroon','Cuba','Cyprus','Gabon',\n",
    "                'Ghana']"
   ]
  },
  {
   "cell_type": "markdown",
   "id": "4da2f289-5249-4ae9-800f-4295cf5850a2",
   "metadata": {},
   "source": [
    "## Cleaning"
   ]
  },
  {
   "cell_type": "code",
   "execution_count": 18,
   "id": "f3963be7-9ae5-4d99-9e84-cf87895faa19",
   "metadata": {
    "tags": []
   },
   "outputs": [],
   "source": [
    "for country in country_names:\n",
    "    df = pd.read_csv(f\"Datas/Raw Data/Countries/{country}.csv\")\n",
    "    df.columns = df.columns.str.replace(r'\\[.*?\\]', '', regex=True)\n",
    "    df_new = df.drop(['Country Name','Series Code'], axis=1) # drop specific columns\n",
    "    df_new.iloc[:,:] = df_new.iloc[:,:].round(2) # round all numbers to 2\n",
    "    df_new.to_csv(f'Datas/Cleaned Data/Countries/{country}_cleaned.csv', index=False)"
   ]
  },
  {
   "cell_type": "markdown",
   "id": "e108a405-fd16-410a-9616-9e7ccce6ceec",
   "metadata": {},
   "source": [
    "## Fixing"
   ]
  },
  {
   "cell_type": "code",
   "execution_count": 19,
   "id": "772a42b7-0cab-4d0a-8516-e88712512273",
   "metadata": {
    "tags": []
   },
   "outputs": [],
   "source": [
    "for country in country_names:\n",
    "    df = pd.read_csv(f'Datas/Cleaned Data/Countries/{country}_cleaned.csv')\n",
    "    df = df.rename(index={\n",
    "        0: \"GDP growth\",\n",
    "        1: \"GDP per capita\",\n",
    "        2: \"Population\",\n",
    "        3: \"Population growth\",\n",
    "        4: \"Inflation\",\n",
    "        5: \"Unemployment\",\n",
    "        6: \"Trade (% of GDP)\"\n",
    "    })\n",
    "    df = df.drop(\"Series Name\", axis=1) # drop the column that we don't need\n",
    "    df.fillna(0.0, inplace=True)\n",
    "    # save to new files\n",
    "    df.to_csv(f\"Datas/Fixed Data/Countries/{country}_fixed.csv\", index=True)"
   ]
  },
  {
   "cell_type": "code",
   "execution_count": 20,
   "id": "a0e0fa8c-c687-4319-b01d-a2e0d73beab3",
   "metadata": {
    "tags": []
   },
   "outputs": [],
   "source": [
    "# concatenate files\n",
    "for country in country_names:\n",
    "    df = pd.read_csv(f\"Datas/Fixed Data/Countries/{country}_fixed.csv\")\n",
    "    df = pd.concat(gdf.T for _, gdf in df.set_index(df.index % 7).groupby(df.index // 7))\n",
    "    df.reset_index().to_csv(f\"Datas/Converted Data/Countries/{country}_converted.csv\", index=False, header=False)\n",
    "\n",
    "# rename and drop some columns\n",
    "for country in country_names:    \n",
    "    df = pd.read_csv(f\"Datas/Converted Data/Countries/{country}_converted.csv\")\n",
    "    df = df.rename(columns={'Unnamed: 0': 'Year'})\n",
    "    df.drop(['GDP growth','Population growth'], axis=1, inplace=True)\n",
    "    df.to_csv(f\"Datas/Converted Data/Countries/{country}_converted.csv\", index=False)"
   ]
  },
  {
   "cell_type": "markdown",
   "id": "64738652-d4b7-4b32-bdb2-ed19a1693226",
   "metadata": {},
   "source": [
    "# Prepare datas for Model"
   ]
  },
  {
   "cell_type": "code",
   "execution_count": 9,
   "id": "22fca4b0-1980-4c76-b387-50a02e3f31aa",
   "metadata": {
    "tags": []
   },
   "outputs": [],
   "source": [
    "# The path that our datas in\n",
    "folder_path = 'Datas/Converted Data/Countries'\n",
    "\n",
    "# Get paths of all CSV files in folder\n",
    "all_files = glob.glob(os.path.join(folder_path, \"*.csv\"))\n",
    "\n",
    "# Combine file paths and create a single DataFrame\n",
    "df_from_each_file = (pd.read_csv(f) for f in all_files)\n",
    "concatenated_df   = pd.concat(df_from_each_file, ignore_index=True)\n",
    "\n",
    "# save the final dataframe\n",
    "concatenated_df.to_csv(\"Datas/Model Data/final.csv\", index=False)\n",
    "\n"
   ]
  },
  {
   "cell_type": "code",
   "execution_count": 11,
   "id": "7ff3cfc6-8858-4c38-831e-48ccce89643a",
   "metadata": {
    "tags": []
   },
   "outputs": [
    {
     "name": "stdout",
     "output_type": "stream",
     "text": [
      "No NaN values\n"
     ]
    }
   ],
   "source": [
    "# read the CSV file\n",
    "df = pd.read_csv('Datas/Model Data/final.csv')\n",
    "\n",
    "# Check NaN values\n",
    "if df.isnull().values.any():\n",
    "    print(\"There are NaN values\")\n",
    "    nan_values = df[df.isna().any(axis=1)]\n",
    "    print(nan_values)\n",
    "else:\n",
    "    print(\"No NaN values\")\n"
   ]
  }
 ],
 "metadata": {
  "kernelspec": {
   "display_name": "Python 3 (ipykernel)",
   "language": "python",
   "name": "python3"
  },
  "language_info": {
   "codemirror_mode": {
    "name": "ipython",
    "version": 3
   },
   "file_extension": ".py",
   "mimetype": "text/x-python",
   "name": "python",
   "nbconvert_exporter": "python",
   "pygments_lexer": "ipython3",
   "version": "3.11.3"
  }
 },
 "nbformat": 4,
 "nbformat_minor": 5
}
